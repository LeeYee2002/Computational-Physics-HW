{
 "cells": [
  {
   "cell_type": "markdown",
   "metadata": {},
   "source": [
    "1.2 Split into 100 experiments\n",
    "Let’s use the same number of random numbers in a different way. Let P = 100 and X = 100"
   ]
  },
  {
   "cell_type": "markdown",
   "metadata": {},
   "source": [
    "Experiments prepare:"
   ]
  },
  {
   "cell_type": "code",
   "execution_count": 5,
   "metadata": {},
   "outputs": [],
   "source": [
    "import numpy as np\n",
    "import matplotlib.pyplot as plt\n",
    "dimension = 2                   #pair \n",
    "n_points_per_experiment = 100 #number of pair/ P=100\n",
    "n_experiments = 100               #number of independent experiment/ X= 100\n",
    "points = np.random.uniform(low=-1.0, high=1.0,size=(dimension, n_points_per_experiment,n_experiments, )) #{[(px1,py1),(px2,py2)...(px10000),(py10000)]}"
   ]
  },
  {
   "cell_type": "markdown",
   "metadata": {},
   "source": [
    "Experiments result calculation:"
   ]
  },
  {
   "cell_type": "code",
   "execution_count": 6,
   "metadata": {},
   "outputs": [],
   "source": [
    "radius = (points**2).sum(axis=0)  #px^2 + py^2\n",
    "inside_the_circle = (radius <= 1) # how many points in the circle\n",
    "inside_the_square = ((-1.0 <= points[0]) & (points[0] <= 1.0) &(-1.0 <= points[1]) & (points[1] <= 1.0)) #how many points inside the square\n",
    "pi_by_4 = inside_the_circle.sum(axis=0) / inside_the_square.sum(axis=0) #ratio \n",
    "pi = 4 * pi_by_4"
   ]
  },
  {
   "cell_type": "markdown",
   "metadata": {},
   "source": [
    "Experiment analysis:"
   ]
  },
  {
   "cell_type": "code",
   "execution_count": 7,
   "metadata": {},
   "outputs": [
    {
     "name": "stdout",
     "output_type": "stream",
     "text": [
      "pi =3.1608000000000005 ± 0.1462031463409731\n"
     ]
    }
   ],
   "source": [
    "average = pi.mean()\n",
    "uncertainty = pi.std()\n",
    "average = pi.mean()\n",
    "uncertainty = pi.std()\n",
    "print(f'pi ={average} ± {uncertainty}')"
   ]
  },
  {
   "cell_type": "markdown",
   "metadata": {},
   "source": [
    "Compute the estimate πx for each experiment x. Compute the mean and its uncertainty using these\n",
    "estimates, as in (2)."
   ]
  },
  {
   "cell_type": "code",
   "execution_count": 8,
   "metadata": {},
   "outputs": [
    {
     "name": "stdout",
     "output_type": "stream",
     "text": [
      "pi_x: [2.8  3.16 3.28 3.24 3.12 3.4  3.16 3.16 3.16 3.32 3.28 3.24 2.96 3.24\n",
      " 3.2  3.04 3.24 3.4  3.36 3.32 3.12 3.32 3.08 3.48 3.32 2.96 3.44 3.04\n",
      " 3.28 3.2  3.36 3.24 3.16 3.24 3.2  3.16 3.4  3.   3.24 2.96 3.2  3.16\n",
      " 3.12 3.28 3.32 2.96 3.52 3.12 3.12 3.32 3.44 3.24 3.   3.16 2.96 3.\n",
      " 2.96 3.2  3.24 3.12 3.32 3.08 3.12 3.08 3.16 3.12 3.28 3.32 3.16 3.12\n",
      " 3.   3.2  3.04 2.96 2.96 2.96 3.2  2.84 3.16 3.04 3.16 3.   2.8  3.08\n",
      " 3.12 3.12 3.16 3.04 3.2  3.32 2.96 3.28 2.92 3.2  3.04 3.24 3.04 3.2\n",
      " 3.12 3.24]\n",
      "pi_average = 3.1608000000000005, pi_uncertatinty = 0.1462031463409731\n"
     ]
    }
   ],
   "source": [
    "print('pi_x:',pi) #each pi_x\n",
    "print(f'pi_average = {average}, pi_uncertatinty = {uncertainty}')"
   ]
  },
  {
   "cell_type": "markdown",
   "metadata": {},
   "source": [
    "Plot a histogram of the estimates (there should be X = 100 numbers that go into your histogram, each\n",
    "one an average of P = 100 numbers). Indicate the true known value of π, and indicate the mean, and\n",
    "the mean ± the uncertainty"
   ]
  },
  {
   "cell_type": "code",
   "execution_count": 9,
   "metadata": {},
   "outputs": [
    {
     "data": {
      "text/plain": [
       "<matplotlib.patches.Rectangle at 0x20f1fadf980>"
      ]
     },
     "execution_count": 9,
     "metadata": {},
     "output_type": "execute_result"
    },
    {
     "data": {
      "image/png": "[encoded data removed]",
      "text/plain": [
       "<Figure size 640x480 with 1 Axes>"
      ]
     },
     "metadata": {},
     "output_type": "display_data"
    }
   ],
   "source": [
    "plt.hist(pi, bins=25) \n",
    "plt.axvline(np.pi, color='black', zorder=1, linestyle=':')\n",
    "plt.axvspan(average-uncertainty, average+uncertainty, alpha=0.25)"
   ]
  }
 ],
 "metadata": {
  "kernelspec": {
   "display_name": ".venv",
   "language": "python",
   "name": "python3"
  },
  "language_info": {
   "codemirror_mode": {
    "name": "ipython",
    "version": 3
   },
   "file_extension": ".py",
   "mimetype": "text/x-python",
   "name": "python",
   "nbconvert_exporter": "python",
   "pygments_lexer": "ipython3",
   "version": "3.12.4"
  }
 },
 "nbformat": 4,
 "nbformat_minor": 2
}
