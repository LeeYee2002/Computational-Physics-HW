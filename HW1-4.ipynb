{
 "cells": [
  {
   "cell_type": "markdown",
   "metadata": {},
   "source": [
    "**LI, YI-QUAN(Eric)**\n",
    "\n",
    "**uni-ID:s08yli**\n",
    "\n",
    "**github-address: https://github.com/LeeYee2002/Computational-Physics-HW.git**"
   ]
  },
  {
   "cell_type": "markdown",
   "metadata": {},
   "source": [
    "**1.4 Stop and think**"
   ]
  },
  {
   "cell_type": "markdown",
   "metadata": {},
   "source": [
    "**Were the estimates of the previous parts compatible with the known value of π?**\n",
    "\n",
    "The previous results from P1.2.3, all of them give a converage value close to pi. But still with uncertainty, especiallly P1 and P3. However, we can say that it sucessfully implies the value of pi is surely falls on this certain range. If we can adjust our parameters, maybe we can be more confident to our result."
   ]
  },
  {
   "cell_type": "markdown",
   "metadata": {},
   "source": [
    "**Write a few sentences explaining whether the standard deviation of a single experiment (as in 1.1)\n",
    "makes sense as an uncertainty.**\n",
    "\n",
    "It surely make sense of uncertainty. But only for this \"single one experiment\". We can find the uncertainty is a relativly big value compared to $pi$. To lower this measurement uncertainty we may need to do more independent experiments to test it validaity."
   ]
  },
  {
   "cell_type": "markdown",
   "metadata": {},
   "source": [
    "**Write a few sentences explaining why just reorganizing the way we ‘spent’ our random numbers matters**\n",
    "\n",
    "We find, if we adjust our trials times and the number of independent experiments, we can reduce our uncertainty(In comparision with Problem 1 and Problem 2). Then we would have more confident about our experiment result."
   ]
  }
 ],
 "metadata": {
  "kernelspec": {
   "display_name": ".venv",
   "language": "python",
   "name": "python3"
  },
  "language_info": {
   "name": "python",
   "version": "3.12.4"
  }
 },
 "nbformat": 4,
 "nbformat_minor": 2
}
