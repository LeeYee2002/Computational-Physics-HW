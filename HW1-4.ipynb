{
 "cells": [
  {
   "cell_type": "markdown",
   "metadata": {},
   "source": [
    "**1.4 Stop and think**"
   ]
  },
  {
   "cell_type": "markdown",
   "metadata": {},
   "source": [
    "**Were the estimates of the previous parts compatible with the known value of π?**\n",
    "\n",
    "The previous results from P1.2.3, all of them give a converage value close to pi. But still with uncertainty. However, we can say that it sucessfully indicate the value of pi surely falls on the certain range."
   ]
  },
  {
   "cell_type": "markdown",
   "metadata": {},
   "source": [
    "**Write a few sentences explaining whether the standard deviation of a single experiment (as in 1.1)\n",
    "makes sense as an uncertainty.**\n",
    "\n",
    "A single experiment makes no sense of uncertainty. But the measurement results of one single experiment, as we have serval trials, many datas, then we have uncertainty. In contrast, if we only have one resulting value, it gives 0 uncertainty. Thus, if we regard such averaged result as single experiment, we will never have uncertainty.\n"
   ]
  },
  {
   "cell_type": "markdown",
   "metadata": {},
   "source": [
    "**Write a few sentences explaining why just reorganizing the way we ‘spent’ our random numbers matters**\n",
    "\n",
    "We find, if we adjust our trials times and the number of independent experiments, we can reduce our uncertainty(In comparision with Problem 1 and Problem 2). Then we would have more confident about our experiment result."
   ]
  }
 ],
 "metadata": {
  "kernelspec": {
   "display_name": ".venv",
   "language": "python",
   "name": "python3"
  },
  "language_info": {
   "name": "python",
   "version": "3.12.4"
  }
 },
 "nbformat": 4,
 "nbformat_minor": 2
}
