{
 "cells": [
  {
   "cell_type": "markdown",
   "metadata": {},
   "source": [
    "**A Zillion Little Experiments**\n",
    "\n",
    "What do we get if we try P = 1 and X = 10000? In other words, every patient is their own clinical trial.\n",
    "Are the results familiar? Explain."
   ]
  },
  {
   "cell_type": "markdown",
   "metadata": {},
   "source": [
    "Experiments prepare:"
   ]
  },
  {
   "cell_type": "code",
   "execution_count": 13,
   "metadata": {},
   "outputs": [],
   "source": [
    "import numpy as np\n",
    "import matplotlib.pyplot as plt\n",
    "dimension = 2                   #pair \n",
    "n_points_per_experiment = 1 #number of pair/ P=1\n",
    "n_experiments = 10000               #number of independent experiment/ X= 10000\n",
    "points = np.random.uniform(low=-1.0, high=1.0,size=(dimension, n_points_per_experiment,n_experiments, )) #{[(px1,py1),(px2,py2)...(px10000),(py10000)]}"
   ]
  },
  {
   "cell_type": "markdown",
   "metadata": {},
   "source": [
    "Experiments result calculation:"
   ]
  },
  {
   "cell_type": "code",
   "execution_count": 14,
   "metadata": {},
   "outputs": [],
   "source": [
    "radius = (points**2).sum(axis=0)  #px^2 + py^2\n",
    "inside_the_circle = (radius <= 1) # how many points in the circle\n",
    "inside_the_square = ((-1.0 <= points[0]) & (points[0] <= 1.0) &(-1.0 <= points[1]) & (points[1] <= 1.0)) #how many points inside the square\n",
    "pi_by_4 = inside_the_circle.sum(axis=0) / inside_the_square.sum(axis=0) #ratio \n",
    "pi = 4 * pi_by_4"
   ]
  },
  {
   "cell_type": "markdown",
   "metadata": {},
   "source": [
    "Experiment analysis:"
   ]
  },
  {
   "cell_type": "code",
   "execution_count": 15,
   "metadata": {},
   "outputs": [
    {
     "name": "stdout",
     "output_type": "stream",
     "text": [
      "pi =3.16 ± 1.6292329483533041\n"
     ]
    }
   ],
   "source": [
    "average = pi.mean()\n",
    "uncertainty = pi.std()\n",
    "average = pi.mean()\n",
    "uncertainty = pi.std()\n",
    "print(f'pi ={average} ± {uncertainty}')"
   ]
  },
  {
   "cell_type": "markdown",
   "metadata": {},
   "source": [
    "Compute the estimate πx for each experiment x. Compute the mean and its uncertainty using these\n",
    "estimates, as in (2)."
   ]
  },
  {
   "cell_type": "code",
   "execution_count": 16,
   "metadata": {},
   "outputs": [
    {
     "name": "stdout",
     "output_type": "stream",
     "text": [
      "pi_x: [4. 4. 4. ... 4. 0. 4.]\n",
      "pi_average = 3.16, pi_uncertatinty = 1.6292329483533041\n"
     ]
    }
   ],
   "source": [
    "print('pi_x:',pi) #each pi_x\n",
    "print(f'pi_average = {average}, pi_uncertatinty = {uncertainty}')"
   ]
  },
  {
   "cell_type": "markdown",
   "metadata": {},
   "source": [
    "Plot a histogram of the estimates. Indicate the true known value of π, and indicate the mean, and\n",
    "the mean ± the uncertainty"
   ]
  },
  {
   "cell_type": "code",
   "execution_count": 18,
   "metadata": {},
   "outputs": [
    {
     "data": {
      "text/plain": [
       "<matplotlib.patches.Rectangle at 0x17309286990>"
      ]
     },
     "execution_count": 18,
     "metadata": {},
     "output_type": "execute_result"
    },
    {
     "data": {
      "image/png": "[encoded data removed]",
      "text/plain": [
       "<Figure size 640x480 with 1 Axes>"
      ]
     },
     "metadata": {},
     "output_type": "display_data"
    }
   ],
   "source": [
    "plt.hist(pi, bins=25) \n",
    "plt.axvline(np.pi, color='black', zorder=1, linestyle=':') #know value of pi\n",
    "plt.axvline(average, color='red', zorder=1, linestyle=':')#average value of pi\n",
    "plt.axvspan(average-uncertainty, average+uncertainty, alpha=0.25)"
   ]
  },
  {
   "cell_type": "markdown",
   "metadata": {},
   "source": [
    "**Explain**"
   ]
  },
  {
   "cell_type": "markdown",
   "metadata": {},
   "source": [
    "The result with only outcomes either 0 or 4. Because every run we only got one shot, it is a 1 or 0 estimation. We actually are doing the same thing like Problem 1 but with different pholisophy. Problem is we taking 10000 trials for one experiments, Problem 3 is taking 10000 experiments that each one only makes one trial. We have both done 10000 times experiments in total. Therefore, we have very familir result(especially uncertainty). In addition, we use indicator observable method to solve the problem. Thus, the datas only will be 0 or 4."
   ]
  }
 ],
 "metadata": {
  "kernelspec": {
   "display_name": ".venv",
   "language": "python",
   "name": "python3"
  },
  "language_info": {
   "codemirror_mode": {
    "name": "ipython",
    "version": 3
   },
   "file_extension": ".py",
   "mimetype": "text/x-python",
   "name": "python",
   "nbconvert_exporter": "python",
   "pygments_lexer": "ipython3",
   "version": "3.12.4"
  }
 },
 "nbformat": 4,
 "nbformat_minor": 2
}
